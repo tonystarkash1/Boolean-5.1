{
 "cells": [
  {
   "cell_type": "code",
   "execution_count": null,
   "metadata": {},
   "outputs": [],
   "source": [
    "import pandas as pd \n",
    "import geopandas as geopd\n",
    "from geopandas . tools import geocode\n",
    "import geopy "
   ]
  },
  {
   "cell_type": "code",
   "execution_count": null,
   "metadata": {},
   "outputs": [],
   "source": [
    "# risoluzione problema violazione eula \n",
    "from geopy.geocoders import Nominatim\n",
    "geolocator = Nominatim(user_agent=\"test_geopy\")\n",
    "geopy.geocoders.options.default_user_agent = \"test_geopy\""
   ]
  },
  {
   "cell_type": "code",
   "execution_count": null,
   "metadata": {},
   "outputs": [],
   "source": [
    "data = pd.read_html(\"https://en.wikipedia.org/wiki/List_of_most_visited_palaces_and_monuments\")\n",
    "\n",
    "for monuments in data:\n",
    "     print(monuments) "
   ]
  },
  {
   "cell_type": "code",
   "execution_count": null,
   "metadata": {},
   "outputs": [],
   "source": [
    "\n",
    "#save the information in to an excel file\n",
    "monuments.to_excel(\"most_visited_locations.xlsx\", header=False)\n",
    "\n",
    "#read the information back into python as a padas dataframe\n",
    "\n",
    "monuments = pd.read_excel(\"most_visited_locations.xlsx\",\n",
    "                          usecols= [1,2,3],\n",
    "                          names = [\"Name\", \"Locationn\", \"Visitors\"],\n",
    "                          header= None,\n",
    "                          skiprows= 1, nrows=40)"
   ]
  },
  {
   "cell_type": "code",
   "execution_count": null,
   "metadata": {},
   "outputs": [],
   "source": [
    "\n",
    "# iterate from the monuments dataframe\n",
    "for index, row in monuments.iterrows():\n",
    "     try:\n",
    "          print(row[\"Name\"])\n",
    "          info = geocode(str(row[\"Name\"]), provider = \"nominatim\")\n",
    "          monuments.loc[int(index), \"Address\"] = info[\"address\"].loc[0]\n",
    "          monuments.loc[int(index), 'Lon'] = info['geometry'].loc[0].x\n",
    "          monuments.loc[int(index), 'Lat'] = info['geometry'].loc[0].y\n",
    "\n",
    "     except: \n",
    "          print(\"Geocoding information for \" + row[\"Name\"] + \" not found!\")\n",
    "          print('')\n"
   ]
  },
  {
   "cell_type": "code",
   "execution_count": null,
   "metadata": {},
   "outputs": [],
   "source": [
    "# removing nan rows\n",
    "monuments = monuments.dropna() \n",
    "\n",
    "# saving the dataframe to an excel file\n",
    "monuments.to_excel(\"Most_visited_monuments.xlsx\")"
   ]
  },
  {
   "cell_type": "code",
   "execution_count": null,
   "metadata": {},
   "outputs": [],
   "source": [
    "import folium\n",
    "import pandas as pd\n",
    "\n",
    "dataset = pd.read_excel(\"Most_visited_monuments.xlsx\")\n",
    "\n",
    "del dataset[\"Unnamed: 0\"]\n",
    "\n",
    "m = folium.Map(tiles = 'openstreetmap', zoom_starts = 3)\n",
    "\n",
    "for index, row in dataset.iterrows():\n",
    "    #folium.Marker([row['Lat'], row['Lon']], popup = row[\"Name\"]).add_to(m)\n",
    "    folium.Marker([row['Lat'], row['Lon']], popup =\"Name: \" + row[\"Name\"] + \"<br><br>\" \"Number of visitors: \" + row[\"Visitors\"]).add_to(m)\n",
    "\n",
    "m.save('monuments_around_the_world.html')"
   ]
  }
 ],
 "metadata": {
  "language_info": {
   "name": "python"
  },
  "orig_nbformat": 4
 },
 "nbformat": 4,
 "nbformat_minor": 2
}
