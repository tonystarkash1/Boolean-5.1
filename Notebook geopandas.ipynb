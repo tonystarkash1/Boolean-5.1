{
 "cells": [
  {
   "cell_type": "code",
   "execution_count": 7,
   "metadata": {},
   "outputs": [
    {
     "name": "stdout",
     "output_type": "stream",
     "text": [
      "Requirement already satisfied: geopandas in c:\\users\\afron\\anaconda3\\lib\\site-packages (0.13.2)\n",
      "Requirement already satisfied: shapely>=1.7.1 in c:\\users\\afron\\anaconda3\\lib\\site-packages (from geopandas) (2.0.1)\n",
      "Requirement already satisfied: pandas>=1.1.0 in c:\\users\\afron\\anaconda3\\lib\\site-packages (from geopandas) (1.5.3)\n",
      "Requirement already satisfied: fiona>=1.8.19 in c:\\users\\afron\\anaconda3\\lib\\site-packages (from geopandas) (1.9.4.post1)\n",
      "Requirement already satisfied: packaging in c:\\users\\afron\\anaconda3\\lib\\site-packages (from geopandas) (22.0)\n",
      "Requirement already satisfied: pyproj>=3.0.1 in c:\\users\\afron\\anaconda3\\lib\\site-packages (from geopandas) (3.6.0)\n",
      "Requirement already satisfied: certifi in c:\\users\\afron\\anaconda3\\lib\\site-packages (from fiona>=1.8.19->geopandas) (2023.5.7)\n",
      "Requirement already satisfied: click~=8.0 in c:\\users\\afron\\anaconda3\\lib\\site-packages (from fiona>=1.8.19->geopandas) (8.0.4)\n",
      "Requirement already satisfied: click-plugins>=1.0 in c:\\users\\afron\\anaconda3\\lib\\site-packages (from fiona>=1.8.19->geopandas) (1.1.1)\n",
      "Requirement already satisfied: cligj>=0.5 in c:\\users\\afron\\anaconda3\\lib\\site-packages (from fiona>=1.8.19->geopandas) (0.7.2)\n",
      "Requirement already satisfied: six in c:\\users\\afron\\anaconda3\\lib\\site-packages (from fiona>=1.8.19->geopandas) (1.16.0)\n",
      "Requirement already satisfied: attrs>=19.2.0 in c:\\users\\afron\\anaconda3\\lib\\site-packages (from fiona>=1.8.19->geopandas) (22.1.0)\n",
      "Requirement already satisfied: python-dateutil>=2.8.1 in c:\\users\\afron\\anaconda3\\lib\\site-packages (from pandas>=1.1.0->geopandas) (2.8.2)\n",
      "Requirement already satisfied: numpy>=1.21.0 in c:\\users\\afron\\anaconda3\\lib\\site-packages (from pandas>=1.1.0->geopandas) (1.23.5)\n",
      "Requirement already satisfied: pytz>=2020.1 in c:\\users\\afron\\anaconda3\\lib\\site-packages (from pandas>=1.1.0->geopandas) (2022.7)\n",
      "Requirement already satisfied: colorama in c:\\users\\afron\\anaconda3\\lib\\site-packages (from click~=8.0->fiona>=1.8.19->geopandas) (0.4.6)\n",
      "Requirement already satisfied: folium in c:\\users\\afron\\anaconda3\\lib\\site-packages (0.14.0)\n",
      "Requirement already satisfied: jinja2>=2.9 in c:\\users\\afron\\anaconda3\\lib\\site-packages (from folium) (3.1.2)\n",
      "Requirement already satisfied: numpy in c:\\users\\afron\\anaconda3\\lib\\site-packages (from folium) (1.23.5)\n",
      "Requirement already satisfied: branca>=0.6.0 in c:\\users\\afron\\anaconda3\\lib\\site-packages (from folium) (0.6.0)\n",
      "Requirement already satisfied: requests in c:\\users\\afron\\anaconda3\\lib\\site-packages (from folium) (2.28.1)\n",
      "Requirement already satisfied: MarkupSafe>=2.0 in c:\\users\\afron\\anaconda3\\lib\\site-packages (from jinja2>=2.9->folium) (2.1.1)\n",
      "Requirement already satisfied: charset-normalizer<3,>=2 in c:\\users\\afron\\anaconda3\\lib\\site-packages (from requests->folium) (2.0.4)\n",
      "Requirement already satisfied: idna<4,>=2.5 in c:\\users\\afron\\anaconda3\\lib\\site-packages (from requests->folium) (3.4)\n",
      "Requirement already satisfied: urllib3<1.27,>=1.21.1 in c:\\users\\afron\\anaconda3\\lib\\site-packages (from requests->folium) (1.26.14)\n",
      "Requirement already satisfied: certifi>=2017.4.17 in c:\\users\\afron\\anaconda3\\lib\\site-packages (from requests->folium) (2023.5.7)\n",
      "Requirement already satisfied: geopy in c:\\users\\afron\\anaconda3\\lib\\site-packages (2.3.0)\n",
      "Requirement already satisfied: geographiclib<3,>=1.52 in c:\\users\\afron\\anaconda3\\lib\\site-packages (from geopy) (2.0)\n"
     ]
    }
   ],
   "source": [
    "!pip install geopandas\n",
    "!pip install folium\n",
    "import geopandas as gpd\n",
    "!pip install geopy\n",
    "\n",
    "\n"
   ]
  },
  {
   "attachments": {},
   "cell_type": "markdown",
   "metadata": {},
   "source": [
    "python\n",
    "Copy code\n",
    "\n",
    "!pip install geopandas\n",
    "\n",
    "Questa riga installa il pacchetto geopandas. GeoPandas è un modulo Python utilizzato per semplificare il lavoro con i dati geospaziali in python. Estende i tipi di dati utilizzati da pandas per consentire operazioni spaziali su tipi geometrici.\n",
    "\n",
    "python\n",
    "Copy code\n",
    "\n",
    "!pip install folium\n",
    "\n",
    "Questa riga installa il pacchetto folium. Folium è una potente libreria Python che aiuta a creare diversi tipi di mappe Leaflet. Rende facile visualizzare dati che sono stati manipolati in Python su una mappa Leaflet interattiva.\n",
    "\n",
    "python\n",
    "Copy code\n",
    "\n",
    "import geopandas as gpd\n",
    "\n",
    "Questa riga importa il modulo geopandas, utilizzando gpd come alias. Questa è una pratica standard per facilitare la digitazione nel codice successivo.\n",
    "\n",
    "python\n",
    "Copy code\n",
    "\n",
    "!pip install geopy\n",
    "\n",
    "Questa riga installa il pacchetto geopy. Geopy è un client Python per diversi popolari servizi di geocodifica web. Semplifica il processo di localizzazione delle coordinate di indirizzi, città, paesi e punti di riferimento in tutto il mondo utilizzando geocoder di terze parti e altre fonti di dati.\n",
    "\n",
    "Nota che quando vedi un \"!\" all'inizio di una riga in un taccuino Jupyter, significa che questa riga è un comando shell. Questi vengono di solito utilizzati per l'installazione di pacchetti o altre attività relative al sistema."
   ]
  },
  {
   "cell_type": "code",
   "execution_count": 8,
   "metadata": {},
   "outputs": [
    {
     "name": "stdout",
     "output_type": "stream",
     "text": [
      "Requirement already satisfied: openpyxl in c:\\users\\afron\\anaconda3\\lib\\site-packages (3.0.10)\n",
      "Requirement already satisfied: et_xmlfile in c:\\users\\afron\\anaconda3\\lib\\site-packages (from openpyxl) (1.1.0)\n",
      "Note: you may need to restart the kernel to use updated packages.\n"
     ]
    }
   ],
   "source": [
    "pip install openpyxl\n"
   ]
  },
  {
   "cell_type": "code",
   "execution_count": 9,
   "metadata": {},
   "outputs": [],
   "source": [
    "import folium\n",
    "import pandas as pd\n",
    "\n",
    "dataset = pd.read_excel(r\"C:\\Users\\afron\\Desktop\\Python\\NotebookcorsoPython\\Reverse classroom\\Boolean-5.1-main\\GeopandasExercise\\Most_visited_monuments.xlsx\")\n",
    "\n",
    "del dataset[\"Unnamed: 0\"]\n",
    "\n",
    "m = folium.Map(tiles='openstreetmap', zoom_starts=3)\n",
    "\n",
    "for index, row in dataset.iterrows():\n",
    "    # Verifica il nome corretto della colonna delle coordinate\n",
    "    latitude = row['Lat']\n",
    "    longitude = row['Lon']\n",
    "    popup = \"Name: \" + row[\"Name\"] + \"<br><br>\" + \"Number of visitors: \" + row[\"Visitors\"]\n",
    "    folium.Marker([latitude, longitude], popup=popup).add_to(m)\n",
    "\n",
    "m.save('monuments_around_the_world.html')\n",
    "\n"
   ]
  },
  {
   "attachments": {},
   "cell_type": "markdown",
   "metadata": {},
   "source": [
    "python\n",
    "Copy code\n",
    "\n",
    "import folium\n",
    "import pandas as pd\n",
    "\n",
    "Lo script inizia importando i moduli necessari. folium è una libreria Python utilizzata per visualizzare dati geospaziali. È un'interfaccia per leaflet.js, una libreria Javascript per la creazione di mappe interattive. pandas è una potente libreria per la manipolazione dei dati in Python.\n",
    "\n",
    "python\n",
    "Copy code\n",
    "\n",
    "dataset = pd.read_excel(r\"C:\\Users\\afron\\Desktop\\Python\\NotebookcorsoPython\\Reverse classroom\\Boolean-5.1-main\\GeopandasExercise\\Most_visited_monuments.xlsx\")\n",
    "\n",
    "Questa riga legge un file Excel situato nel percorso specificato. I dati del file vengono memorizzati in un DataFrame di pandas.\n",
    "\n",
    "python\n",
    "Copy code\n",
    "\n",
    "del dataset[\"Unnamed: 0\"]\n",
    "\n",
    "Questa riga elimina una colonna chiamata \"Unnamed: 0\" dal DataFrame. Questa è tipicamente una colonna di indice residua che pandas non ha riconosciuto automaticamente.\n",
    "\n",
    "python\n",
    "Copy code\n",
    "\n",
    "m = folium.Map(tiles='openstreetmap', zoom_starts=3)\n",
    "\n",
    "Questa riga crea un nuovo oggetto Mappa di Folium. La mappa utilizzerà le tessere di OpenStreetMap e inizialmente sarà zoomata al livello 3.\n",
    "\n",
    "python\n",
    "Copy code\n",
    "\n",
    "for index, row in dataset.iterrows():\n",
    "    latitude = row['Lat']\n",
    "    longitude = row['Lon']\n",
    "    popup = \"Name: \" + row[\"Name\"] + \"<br><br>\" + \"Number of visitors: \" + row[\"Visitors\"]\n",
    "    folium.Marker([latitude, longitude], popup=popup).add_to(m)\n",
    "\n",
    "Qui, lo script itera su ogni riga nel DataFrame del dataset. Per ogni riga, estrae la latitudine e la longitudine, e le usa per creare un marcatore sulla mappa. Il testo popup per il marcatore viene costruito utilizzando le colonne Nome e Visitatori dal DataFrame. Ogni marcatore creato viene quindi aggiunto alla mappa.\n",
    "\n",
    "python\n",
    "Copy code\n",
    "\n",
    "m.save('monuments_around_the_world.html')\n",
    "\n",
    "Infine, la mappa con tutti i marcatori aggiunti viene salvata come un file HTML chiamato 'monuments_around_the_world.html'. Questo file può essere aperto in un browser web per visualizzare la mappa e interagire con i marcatori.\n",
    "\n",
    "Si prega di notare che il codice presume che il file Excel abbia colonne denominate \"Lat\", \"Lon\", \"Name\", e \"Visitors\". Se questi nomi di colonne non esistono o sono scritti in modo diverso, il codice avrebbe bisogno di essere regolato. Inoltre, assicurati che il percorso del file sia corretto."
   ]
  },
  {
   "cell_type": "code",
   "execution_count": 6,
   "metadata": {},
   "outputs": [
    {
     "ename": "NameError",
     "evalue": "name 'geopy' is not defined",
     "output_type": "error",
     "traceback": [
      "\u001b[1;31m---------------------------------------------------------------------------\u001b[0m",
      "\u001b[1;31mNameError\u001b[0m                                 Traceback (most recent call last)",
      "Cell \u001b[1;32mIn[6], line 4\u001b[0m\n\u001b[0;32m      2\u001b[0m \u001b[39mfrom\u001b[39;00m \u001b[39mgeopy\u001b[39;00m\u001b[39m.\u001b[39;00m\u001b[39mgeocoders\u001b[39;00m \u001b[39mimport\u001b[39;00m Nominatim\n\u001b[0;32m      3\u001b[0m geolocator \u001b[39m=\u001b[39m Nominatim(user_agent\u001b[39m=\u001b[39m\u001b[39m\"\u001b[39m\u001b[39mtest_geopy\u001b[39m\u001b[39m\"\u001b[39m)\n\u001b[1;32m----> 4\u001b[0m geopy\u001b[39m.\u001b[39mgeocoders\u001b[39m.\u001b[39moptions\u001b[39m.\u001b[39mdefault_user_agent \u001b[39m=\u001b[39m \u001b[39m\"\u001b[39m\u001b[39mtest_geopy\u001b[39m\u001b[39m\"\u001b[39m\n\u001b[0;32m      6\u001b[0m data \u001b[39m=\u001b[39m pd\u001b[39m.\u001b[39mread_html(\u001b[39m\"\u001b[39m\u001b[39mhttps://en.wikipedia.org/wiki/List_of_most_visited_palaces_and_monuments\u001b[39m\u001b[39m\"\u001b[39m)\n\u001b[0;32m      8\u001b[0m \u001b[39mfor\u001b[39;00m monuments \u001b[39min\u001b[39;00m data:\n",
      "\u001b[1;31mNameError\u001b[0m: name 'geopy' is not defined"
     ]
    }
   ],
   "source": [
    "# risoluzione problema violazione eula \n",
    "from geopy.geocoders import Nominatim\n",
    "geolocator = Nominatim(user_agent=\"test_geopy\")\n",
    "geopy.geocoders.options.default_user_agent = \"test_geopy\"\n",
    "\n",
    "data = pd.read_html(\"https://en.wikipedia.org/wiki/List_of_most_visited_palaces_and_monuments\")\n",
    "\n",
    "for monuments in data:\n",
    "     print(monuments) "
   ]
  },
  {
   "cell_type": "code",
   "execution_count": null,
   "metadata": {},
   "outputs": [],
   "source": [
    "#save the information in to an excel file\n",
    "monuments.to_excel(\"most_visited_locations.xlsx\", header=False)"
   ]
  },
  {
   "cell_type": "code",
   "execution_count": null,
   "metadata": {},
   "outputs": [
    {
     "ename": "FileNotFoundError",
     "evalue": "[Errno 2] No such file or directory: 'most_visited_locations.xlsx'",
     "output_type": "error",
     "traceback": [
      "\u001b[1;31m---------------------------------------------------------------------------\u001b[0m",
      "\u001b[1;31mFileNotFoundError\u001b[0m                         Traceback (most recent call last)",
      "Cell \u001b[1;32mIn[2], line 3\u001b[0m\n\u001b[0;32m      1\u001b[0m \u001b[39m#read the information back into python as a padas dataframe\u001b[39;00m\n\u001b[1;32m----> 3\u001b[0m monuments \u001b[39m=\u001b[39m pd\u001b[39m.\u001b[39;49mread_excel(\u001b[39m\"\u001b[39;49m\u001b[39mmost_visited_locations.xlsx\u001b[39;49m\u001b[39m\"\u001b[39;49m,\n\u001b[0;32m      4\u001b[0m                           usecols\u001b[39m=\u001b[39;49m [\u001b[39m1\u001b[39;49m,\u001b[39m2\u001b[39;49m,\u001b[39m3\u001b[39;49m],\n\u001b[0;32m      5\u001b[0m                           names \u001b[39m=\u001b[39;49m [\u001b[39m\"\u001b[39;49m\u001b[39mName\u001b[39;49m\u001b[39m\"\u001b[39;49m, \u001b[39m\"\u001b[39;49m\u001b[39mLocationn\u001b[39;49m\u001b[39m\"\u001b[39;49m, \u001b[39m\"\u001b[39;49m\u001b[39mVisitors\u001b[39;49m\u001b[39m\"\u001b[39;49m],\n\u001b[0;32m      6\u001b[0m                           header\u001b[39m=\u001b[39;49m \u001b[39mNone\u001b[39;49;00m,\n\u001b[0;32m      7\u001b[0m                           skiprows\u001b[39m=\u001b[39;49m \u001b[39m1\u001b[39;49m, nrows\u001b[39m=\u001b[39;49m\u001b[39m40\u001b[39;49m)\n",
      "File \u001b[1;32mc:\\Users\\afron\\anaconda3\\lib\\site-packages\\pandas\\util\\_decorators.py:211\u001b[0m, in \u001b[0;36mdeprecate_kwarg.<locals>._deprecate_kwarg.<locals>.wrapper\u001b[1;34m(*args, **kwargs)\u001b[0m\n\u001b[0;32m    209\u001b[0m     \u001b[39melse\u001b[39;00m:\n\u001b[0;32m    210\u001b[0m         kwargs[new_arg_name] \u001b[39m=\u001b[39m new_arg_value\n\u001b[1;32m--> 211\u001b[0m \u001b[39mreturn\u001b[39;00m func(\u001b[39m*\u001b[39margs, \u001b[39m*\u001b[39m\u001b[39m*\u001b[39mkwargs)\n",
      "File \u001b[1;32mc:\\Users\\afron\\anaconda3\\lib\\site-packages\\pandas\\util\\_decorators.py:331\u001b[0m, in \u001b[0;36mdeprecate_nonkeyword_arguments.<locals>.decorate.<locals>.wrapper\u001b[1;34m(*args, **kwargs)\u001b[0m\n\u001b[0;32m    325\u001b[0m \u001b[39mif\u001b[39;00m \u001b[39mlen\u001b[39m(args) \u001b[39m>\u001b[39m num_allow_args:\n\u001b[0;32m    326\u001b[0m     warnings\u001b[39m.\u001b[39mwarn(\n\u001b[0;32m    327\u001b[0m         msg\u001b[39m.\u001b[39mformat(arguments\u001b[39m=\u001b[39m_format_argument_list(allow_args)),\n\u001b[0;32m    328\u001b[0m         \u001b[39mFutureWarning\u001b[39;00m,\n\u001b[0;32m    329\u001b[0m         stacklevel\u001b[39m=\u001b[39mfind_stack_level(),\n\u001b[0;32m    330\u001b[0m     )\n\u001b[1;32m--> 331\u001b[0m \u001b[39mreturn\u001b[39;00m func(\u001b[39m*\u001b[39margs, \u001b[39m*\u001b[39m\u001b[39m*\u001b[39mkwargs)\n",
      "File \u001b[1;32mc:\\Users\\afron\\anaconda3\\lib\\site-packages\\pandas\\io\\excel\\_base.py:482\u001b[0m, in \u001b[0;36mread_excel\u001b[1;34m(io, sheet_name, header, names, index_col, usecols, squeeze, dtype, engine, converters, true_values, false_values, skiprows, nrows, na_values, keep_default_na, na_filter, verbose, parse_dates, date_parser, thousands, decimal, comment, skipfooter, convert_float, mangle_dupe_cols, storage_options)\u001b[0m\n\u001b[0;32m    480\u001b[0m \u001b[39mif\u001b[39;00m \u001b[39mnot\u001b[39;00m \u001b[39misinstance\u001b[39m(io, ExcelFile):\n\u001b[0;32m    481\u001b[0m     should_close \u001b[39m=\u001b[39m \u001b[39mTrue\u001b[39;00m\n\u001b[1;32m--> 482\u001b[0m     io \u001b[39m=\u001b[39m ExcelFile(io, storage_options\u001b[39m=\u001b[39;49mstorage_options, engine\u001b[39m=\u001b[39;49mengine)\n\u001b[0;32m    483\u001b[0m \u001b[39melif\u001b[39;00m engine \u001b[39mand\u001b[39;00m engine \u001b[39m!=\u001b[39m io\u001b[39m.\u001b[39mengine:\n\u001b[0;32m    484\u001b[0m     \u001b[39mraise\u001b[39;00m \u001b[39mValueError\u001b[39;00m(\n\u001b[0;32m    485\u001b[0m         \u001b[39m\"\u001b[39m\u001b[39mEngine should not be specified when passing \u001b[39m\u001b[39m\"\u001b[39m\n\u001b[0;32m    486\u001b[0m         \u001b[39m\"\u001b[39m\u001b[39man ExcelFile - ExcelFile already has the engine set\u001b[39m\u001b[39m\"\u001b[39m\n\u001b[0;32m    487\u001b[0m     )\n",
      "File \u001b[1;32mc:\\Users\\afron\\anaconda3\\lib\\site-packages\\pandas\\io\\excel\\_base.py:1652\u001b[0m, in \u001b[0;36mExcelFile.__init__\u001b[1;34m(self, path_or_buffer, engine, storage_options)\u001b[0m\n\u001b[0;32m   1650\u001b[0m     ext \u001b[39m=\u001b[39m \u001b[39m\"\u001b[39m\u001b[39mxls\u001b[39m\u001b[39m\"\u001b[39m\n\u001b[0;32m   1651\u001b[0m \u001b[39melse\u001b[39;00m:\n\u001b[1;32m-> 1652\u001b[0m     ext \u001b[39m=\u001b[39m inspect_excel_format(\n\u001b[0;32m   1653\u001b[0m         content_or_path\u001b[39m=\u001b[39;49mpath_or_buffer, storage_options\u001b[39m=\u001b[39;49mstorage_options\n\u001b[0;32m   1654\u001b[0m     )\n\u001b[0;32m   1655\u001b[0m     \u001b[39mif\u001b[39;00m ext \u001b[39mis\u001b[39;00m \u001b[39mNone\u001b[39;00m:\n\u001b[0;32m   1656\u001b[0m         \u001b[39mraise\u001b[39;00m \u001b[39mValueError\u001b[39;00m(\n\u001b[0;32m   1657\u001b[0m             \u001b[39m\"\u001b[39m\u001b[39mExcel file format cannot be determined, you must specify \u001b[39m\u001b[39m\"\u001b[39m\n\u001b[0;32m   1658\u001b[0m             \u001b[39m\"\u001b[39m\u001b[39man engine manually.\u001b[39m\u001b[39m\"\u001b[39m\n\u001b[0;32m   1659\u001b[0m         )\n",
      "File \u001b[1;32mc:\\Users\\afron\\anaconda3\\lib\\site-packages\\pandas\\io\\excel\\_base.py:1525\u001b[0m, in \u001b[0;36minspect_excel_format\u001b[1;34m(content_or_path, storage_options)\u001b[0m\n\u001b[0;32m   1522\u001b[0m \u001b[39mif\u001b[39;00m \u001b[39misinstance\u001b[39m(content_or_path, \u001b[39mbytes\u001b[39m):\n\u001b[0;32m   1523\u001b[0m     content_or_path \u001b[39m=\u001b[39m BytesIO(content_or_path)\n\u001b[1;32m-> 1525\u001b[0m \u001b[39mwith\u001b[39;00m get_handle(\n\u001b[0;32m   1526\u001b[0m     content_or_path, \u001b[39m\"\u001b[39;49m\u001b[39mrb\u001b[39;49m\u001b[39m\"\u001b[39;49m, storage_options\u001b[39m=\u001b[39;49mstorage_options, is_text\u001b[39m=\u001b[39;49m\u001b[39mFalse\u001b[39;49;00m\n\u001b[0;32m   1527\u001b[0m ) \u001b[39mas\u001b[39;00m handle:\n\u001b[0;32m   1528\u001b[0m     stream \u001b[39m=\u001b[39m handle\u001b[39m.\u001b[39mhandle\n\u001b[0;32m   1529\u001b[0m     stream\u001b[39m.\u001b[39mseek(\u001b[39m0\u001b[39m)\n",
      "File \u001b[1;32mc:\\Users\\afron\\anaconda3\\lib\\site-packages\\pandas\\io\\common.py:865\u001b[0m, in \u001b[0;36mget_handle\u001b[1;34m(path_or_buf, mode, encoding, compression, memory_map, is_text, errors, storage_options)\u001b[0m\n\u001b[0;32m    856\u001b[0m         handle \u001b[39m=\u001b[39m \u001b[39mopen\u001b[39m(\n\u001b[0;32m    857\u001b[0m             handle,\n\u001b[0;32m    858\u001b[0m             ioargs\u001b[39m.\u001b[39mmode,\n\u001b[1;32m   (...)\u001b[0m\n\u001b[0;32m    861\u001b[0m             newline\u001b[39m=\u001b[39m\u001b[39m\"\u001b[39m\u001b[39m\"\u001b[39m,\n\u001b[0;32m    862\u001b[0m         )\n\u001b[0;32m    863\u001b[0m     \u001b[39melse\u001b[39;00m:\n\u001b[0;32m    864\u001b[0m         \u001b[39m# Binary mode\u001b[39;00m\n\u001b[1;32m--> 865\u001b[0m         handle \u001b[39m=\u001b[39m \u001b[39mopen\u001b[39;49m(handle, ioargs\u001b[39m.\u001b[39;49mmode)\n\u001b[0;32m    866\u001b[0m     handles\u001b[39m.\u001b[39mappend(handle)\n\u001b[0;32m    868\u001b[0m \u001b[39m# Convert BytesIO or file objects passed with an encoding\u001b[39;00m\n",
      "\u001b[1;31mFileNotFoundError\u001b[0m: [Errno 2] No such file or directory: 'most_visited_locations.xlsx'"
     ]
    }
   ],
   "source": [
    "#read the information back into python as a padas dataframe\n",
    "\n",
    "monuments = pd.read_excel(\"most_visited_locations.xlsx\",\n",
    "                          usecols= [1,2,3],\n",
    "                          names = [\"Name\", \"Locationn\", \"Visitors\"],\n",
    "                          header= None,\n",
    "                          skiprows= 1, nrows=40)\n"
   ]
  },
  {
   "cell_type": "code",
   "execution_count": null,
   "metadata": {},
   "outputs": [],
   "source": [
    "# iterate from the monuments dataframe\n",
    "for index, row in monuments.iterrows():\n",
    "     try:\n",
    "          print(row[\"Name\"])\n",
    "          info = geocode(str(row[\"Name\"]), provider = \"nominatim\")\n",
    "          monuments.loc[int(index), \"Address\"] = info[\"address\"].loc[0]\n",
    "          monuments.loc[int(index), 'Lon'] = info['geometry'].loc[0].x\n",
    "          monuments.loc[int(index), 'Lat'] = info['geometry'].loc[0].y\n",
    "\n",
    "     except: # qui l'indiano aveva messo \"except TypeError\"... levando il TypeError funziona tutto\n",
    "          print(\"Geocoding information for \" + row[\"Name\"] + \" not found!\")\n",
    "          print('')\n"
   ]
  },
  {
   "cell_type": "code",
   "execution_count": null,
   "metadata": {},
   "outputs": [],
   "source": [
    "# removing nan rows\n",
    "monuments = monuments.dropna()"
   ]
  },
  {
   "attachments": {},
   "cell_type": "markdown",
   "metadata": {},
   "source": [
    "# saving the dataframe to an excel file\n",
    "monuments.to_excel(\"Most_visited_monuments.xlsx\")"
   ]
  }
 ],
 "metadata": {
  "kernelspec": {
   "display_name": "base",
   "language": "python",
   "name": "python3"
  },
  "language_info": {
   "codemirror_mode": {
    "name": "ipython",
    "version": 3
   },
   "file_extension": ".py",
   "mimetype": "text/x-python",
   "name": "python",
   "nbconvert_exporter": "python",
   "pygments_lexer": "ipython3",
   "version": "3.10.9"
  },
  "orig_nbformat": 4
 },
 "nbformat": 4,
 "nbformat_minor": 2
}
